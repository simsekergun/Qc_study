{
 "cells": [
  {
   "cell_type": "markdown",
   "metadata": {
    "colab_type": "text",
    "id": "view-in-github"
   },
   "source": [
    "<a href=\"https://colab.research.google.com/github/simsekergun/Qc_study/blob/main/Extrapolation_Qc_with_RNN.ipynb\" target=\"_parent\"><img src=\"https://colab.research.google.com/assets/colab-badge.svg\" alt=\"Open In Colab\"/></a>"
   ]
  },
  {
   "cell_type": "code",
   "execution_count": null,
   "metadata": {
    "id": "P-4N5NpgDNMM"
   },
   "outputs": [],
   "source": [
    "!pip install gputil\n",
    "!pip install psutil\n",
    "!pip install humanize"
   ]
  },
  {
   "cell_type": "code",
   "execution_count": null,
   "metadata": {
    "id": "uK5lKWvAhPIZ"
   },
   "outputs": [],
   "source": [
    "!git clone https://github.com/simsekergun/Qc_datasets_functions.git\n",
    "%run ./Qc_datasets_functions/Attention.py"
   ]
  },
  {
   "cell_type": "code",
   "execution_count": null,
   "metadata": {
    "id": "XEmgIeULjs-p"
   },
   "outputs": [],
   "source": [
    "Qc_Dataset = torch.load('./Qc_datasets_functions/Qc_3680_230.pt')\n",
    "Qc_Dataset.shape"
   ]
  },
  {
   "cell_type": "code",
   "execution_count": null,
   "metadata": {
    "id": "wk5GrY-LTXTw"
   },
   "outputs": [],
   "source": [
    "n_freq_training = 400   # number of frequencies will be used for training\n",
    "n_gap = 40           # number of frequencies between training and testing datasets\n",
    "input_dim=25     # attention mechanism input dimension\n",
    "num_neurons=256  # number of neurons to be used in the NN\n",
    "n_test = 230     # testing dataset size\n",
    "num_layers= 5\n",
    "\n",
    "# features (we can't change these)\n",
    "n_train = Qc_Dataset.shape[0]-n_test\n",
    "n_feature = 4  # number of features describing the ring resonator \n",
    "nf = Qc_Dataset.shape[1]-n_feature         # number of Qc values for each device\n",
    "fmax = 500       # max sim. frequency THz\n",
    "df = 0.5         # sim frequeny difference\n",
    "\n",
    "# end of variables\n",
    "output_dim=nf-n_freq_training-n_gap\n",
    "T_length=n_feature+n_freq_training//input_dim"
   ]
  },
  {
   "cell_type": "code",
   "execution_count": null,
   "metadata": {
    "id": "uOT0Ee9xTXTx"
   },
   "outputs": [],
   "source": [
    "Qctrain = torch.narrow(Qc_Dataset, 0, 0, n_train)\n",
    "Qctest = torch.narrow(Qc_Dataset, 0, n_train, n_test)"
   ]
  },
  {
   "cell_type": "code",
   "execution_count": null,
   "metadata": {
    "id": "tpoHkDF2ix7k"
   },
   "outputs": [],
   "source": [
    "# Splitting into train and test datasets:\n",
    "rnn_train_data, null_data = torch.utils.data.random_split(RNN_Dataset(dataset=Qctrain,n=n_freq_training,input_dim=input_dim, ngap = n_gap), (Qctrain.shape[0], 0)) \n",
    "null_data, rnn_test_data = torch.utils.data.random_split(RNN_Dataset(dataset=Qctest,n=n_freq_training,input_dim=input_dim, ngap = n_gap), (0, Qctest.shape[0])) "
   ]
  },
  {
   "cell_type": "code",
   "execution_count": null,
   "metadata": {
    "id": "EgWSZeU2Zp1y"
   },
   "outputs": [],
   "source": [
    "# Loading the data through DataLoader:\n",
    "\n",
    "train_loader = DataLoader(rnn_train_data, batch_size=32, shuffle=True)\n",
    "test_loader = DataLoader(rnn_test_data, batch_size=32, shuffle=False)"
   ]
  },
  {
   "cell_type": "code",
   "execution_count": null,
   "metadata": {
    "id": "1DSyL3PjnGwE"
   },
   "outputs": [],
   "source": [
    "# Defining an RNN model\n",
    "\n",
    "#del rnn_model\n",
    "rnn_model = recurrent_model(T_length=T_length, input_dim=input_dim,  num_layers=num_layers, num_neurons=num_neurons, output_dim=output_dim, model_type='RNN', bidirectional=False)\n",
    "\n",
    "eta = 0.001\n",
    "loss_func = nn.MSELoss()\n",
    "optimizer = torch.optim.AdamW(rnn_model.parameters(), lr=eta)\n",
    "scheduler = torch.optim.lr_scheduler.StepLR(optimizer, 10, gamma=0.5)"
   ]
  },
  {
   "cell_type": "code",
   "execution_count": null,
   "metadata": {
    "id": "suNkyfamrIt5"
   },
   "outputs": [],
   "source": [
    "# Training the RNN model\n",
    "start = time.time()\n",
    "rnn_results = train_network_reg(rnn_model, loss_func, train_loader, test_loader=test_loader, epochs=100, score_funcs={'R^2 score': r2_score}, \n",
    "                                device=device, optimizer=optimizer, lr_schedule=scheduler)\n",
    "stop = time.time()"
   ]
  },
  {
   "cell_type": "code",
   "execution_count": null,
   "metadata": {
    "id": "cRCNpaCZZ3Lf"
   },
   "outputs": [],
   "source": [
    "print('Processing time: %s sec' %(stop-start))"
   ]
  },
  {
   "cell_type": "code",
   "execution_count": null,
   "metadata": {
    "id": "jSnCk31LtEfg"
   },
   "outputs": [],
   "source": [
    "# Presenting the performance of the RNN model\n",
    "rnn_results"
   ]
  },
  {
   "cell_type": "code",
   "execution_count": null,
   "metadata": {
    "id": "cgy4QyLhT8mS"
   },
   "outputs": [],
   "source": [
    "# Plotting the accuracy of the fully connected model:\n",
    "sns.lineplot(x='epoch', y='test R^2 score', data=rnn_results, label='rnn')\n",
    "plt.title('Test R^2 Score of the RNN-Model')\n",
    "plt.gcf().set_size_inches(9, 5.5)\n",
    "plt.show()"
   ]
  }
 ],
 "metadata": {
  "accelerator": "GPU",
  "colab": {
   "collapsed_sections": [],
   "include_colab_link": true,
   "provenance": []
  },
  "kernelspec": {
   "display_name": "Python 3 (ipykernel)",
   "language": "python",
   "name": "python3"
  },
  "language_info": {
   "codemirror_mode": {
    "name": "ipython",
    "version": 3
   },
   "file_extension": ".py",
   "mimetype": "text/x-python",
   "name": "python",
   "nbconvert_exporter": "python",
   "pygments_lexer": "ipython3",
   "version": "3.8.8"
  }
 },
 "nbformat": 4,
 "nbformat_minor": 4
}
