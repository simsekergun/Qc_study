{
  "cells": [
    {
      "cell_type": "markdown",
      "metadata": {
        "id": "view-in-github",
        "colab_type": "text"
      },
      "source": [
        "<a href=\"https://colab.research.google.com/github/simsekergun/Qc_study/blob/main/Interpolation_Qc_with_Attention.ipynb\" target=\"_parent\"><img src=\"https://colab.research.google.com/assets/colab-badge.svg\" alt=\"Open In Colab\"/></a>"
      ]
    },
    {
      "cell_type": "code",
      "execution_count": null,
      "metadata": {
        "id": "D7ObGMULBhG2"
      },
      "outputs": [],
      "source": [
        "!pip install gputil\n",
        "!pip install psutil\n",
        "!pip install humanize"
      ]
    },
    {
      "cell_type": "code",
      "source": [
        "!git clone https://github.com/simsekergun/Qc_datasets_functions.git"
      ],
      "metadata": {
        "id": "iOtOvhhAPH9x"
      },
      "execution_count": null,
      "outputs": []
    },
    {
      "cell_type": "code",
      "execution_count": null,
      "metadata": {
        "id": "PX3thMcQBLt-"
      },
      "outputs": [],
      "source": [
        "%run ./Qc_datasets_functions/Attention.py"
      ]
    },
    {
      "cell_type": "code",
      "execution_count": null,
      "metadata": {
        "id": "_iE-_kQZBMUT"
      },
      "outputs": [],
      "source": [
        "Qc_Dataset = torch.load('./Qc_datasets_functions/Qc.pt')\n",
        "Qc_Dataset.shape"
      ]
    },
    {
      "cell_type": "code",
      "execution_count": null,
      "metadata": {
        "id": "rrMY7s-jBVlk"
      },
      "outputs": [],
      "source": [
        "# variables\n",
        "eta = 0.001            # learning rate\n",
        "step_size = 10         # Period of learning rate decay, see torch.optim.lr_scheduler.StepLR\n",
        "gamma = 0.5            # Multiplicative factor of learning rate decay. Default: 0.1\n",
        "epoch_no = 100         # number of epochs that will be used in training\n",
        "activation_f='ReLU'\n",
        "att_active_f='ReLU'\n",
        "optimizer_f = torch.optim.AdamW\n",
        "n_freq_training = 400   # number of frequencies will be used for training\n",
        "n_gap = 40           # number of frequencies between training and testing datasets\n",
        "input_dim=25     # attention mechanism input dimension\n",
        "num_neurons=256  # number of neurons to be used in the NN\n",
        "n_test = 1000     # testing dataset size\n",
        "\n",
        "# features that we can't change\n",
        "n_feature = 4  # number of features describing the ring resonator \n",
        "nf = 601         # number of Qc values for each device\n",
        "fmax = 500       # max sim. frequency THz\n",
        "df = 0.5         # sim frequeny difference"
      ]
    },
    {
      "cell_type": "code",
      "execution_count": null,
      "metadata": {
        "id": "HPkdcYyMCMvV"
      },
      "outputs": [],
      "source": [
        "output_dim=nf-n_freq_training-n_gap\n",
        "T_length=n_feature+n_freq_training//input_dim\n",
        "fmin_test = fmax-df*(Qc_Dataset.shape[1]-n_feature-n_freq_training-n_gap)\n",
        "n_training_feature = n_feature+n_freq_training\n",
        "freqs = np.arange(fmin_test+df, fmax+df, df)"
      ]
    },
    {
      "cell_type": "code",
      "execution_count": null,
      "metadata": {
        "id": "E7uoG-i2H4aI"
      },
      "outputs": [],
      "source": [
        "train_data, test_data = torch.utils.data.random_split(RNN_Dataset(dataset=Qc_Dataset,n=n_freq_training,input_dim=input_dim, ngap = n_gap), (Qc_Dataset.shape[0]-1000, 1000)) "
      ]
    },
    {
      "cell_type": "code",
      "execution_count": null,
      "metadata": {
        "id": "fxDNypE2_i5d"
      },
      "outputs": [],
      "source": [
        "# Loading the data through DataLoader:\n",
        "train_loader = DataLoader(train_data, batch_size=32, shuffle=True)\n",
        "test_loader = DataLoader(test_data, batch_size=32, shuffle=False)"
      ]
    },
    {
      "cell_type": "code",
      "execution_count": null,
      "metadata": {
        "id": "a-pf3DT1_i5d"
      },
      "outputs": [],
      "source": [
        "# Defining the attention context by the additive attention\n",
        "model = SmarterAttentionNet(T_length=T_length, input_dim=input_dim, num_neurons=num_neurons, output_dim=output_dim, activation=activation_f , att_active=att_active_f)\n",
        "loss_func = nn.MSELoss()\n",
        "optimizer = optimizer_f(model.parameters(), lr=eta)\n",
        "scheduler = torch.optim.lr_scheduler.StepLR(optimizer, step_size=step_size, gamma=gamma)"
      ]
    },
    {
      "cell_type": "code",
      "execution_count": null,
      "metadata": {
        "id": "K3cr56lf_i5e"
      },
      "outputs": [],
      "source": [
        "# Training the model:\n",
        "start = time.time()\n",
        "results = train_network_reg(model, loss_func, train_loader, test_loader=test_loader, epochs=epoch_no, \n",
        "                                      score_funcs={'R^2 score': r2_score}, device=device, optimizer=optimizer, lr_schedule=scheduler)\n",
        "stop = time.time()\n"
      ]
    },
    {
      "cell_type": "code",
      "source": [
        "print('Training time: %s sec' %(stop-start))"
      ],
      "metadata": {
        "id": "xIudYNhuRkWH"
      },
      "execution_count": null,
      "outputs": []
    },
    {
      "cell_type": "code",
      "execution_count": null,
      "metadata": {
        "id": "4tJQYpirpU21"
      },
      "outputs": [],
      "source": [
        "results"
      ]
    },
    {
      "cell_type": "code",
      "execution_count": null,
      "metadata": {
        "id": "U4nPMxmZpV2k"
      },
      "outputs": [],
      "source": [
        "# Plotting the accuracy of the additive attention\n",
        "sns.lineplot(x='epoch', y='test R^2 score', data=results[1:])\n",
        "plt.title('Test R^2 Score of the Additive Attention')\n",
        "plt.gcf().set_size_inches(10, 6)\n",
        "plt.show()"
      ]
    },
    {
      "cell_type": "code",
      "execution_count": null,
      "metadata": {
        "id": "tTkLOeTTpWBW"
      },
      "outputs": [],
      "source": [
        "for i in range(1,n_test,100):\n",
        "    graph_results(model,test_data,i,freqs)"
      ]
    }
  ],
  "metadata": {
    "colab": {
      "collapsed_sections": [],
      "provenance": [],
      "include_colab_link": true
    },
    "kernelspec": {
      "display_name": "Python 3 (ipykernel)",
      "language": "python",
      "name": "python3"
    },
    "language_info": {
      "codemirror_mode": {
        "name": "ipython",
        "version": 3
      },
      "file_extension": ".py",
      "mimetype": "text/x-python",
      "name": "python",
      "nbconvert_exporter": "python",
      "pygments_lexer": "ipython3",
      "version": "3.8.8"
    }
  },
  "nbformat": 4,
  "nbformat_minor": 0
}